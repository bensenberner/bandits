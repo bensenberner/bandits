{
 "cells": [
  {
   "cell_type": "markdown",
   "metadata": {},
   "source": [
    "# Bayesian bandits\n",
    "\n",
    "Notebook describing our efforts on a Bayesian approach to bandits\n",
    "## Set-up\n",
    "Create this notebook via Jupyter in ~/Columbia/academic/src/bayesianBandits\n",
    "\n",
    "### Git repository\n",
    "iurteaga@iurteagaXPS:~/Columbia/academic/src/bayesianBandits$ git init\n",
    "iurteaga@iurteagaXPS:~/Columbia/academic/src/bayesianBandits$ git init"
   ]
  },
  {
   "cell_type": "code",
   "execution_count": null,
   "metadata": {
    "collapsed": true
   },
   "outputs": [],
   "source": []
  }
 ],
 "metadata": {
  "kernelspec": {
   "display_name": "Python 3",
   "language": "python",
   "name": "python3"
  },
  "language_info": {
   "codemirror_mode": {
    "name": "ipython",
    "version": 3
   },
   "file_extension": ".py",
   "mimetype": "text/x-python",
   "name": "python",
   "nbconvert_exporter": "python",
   "pygments_lexer": "ipython3",
   "version": "3.5.2"
  }
 },
 "nbformat": 4,
 "nbformat_minor": 1
}
